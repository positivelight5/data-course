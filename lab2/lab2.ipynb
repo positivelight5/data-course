{
 "cells": [
  {
   "cell_type": "markdown",
   "metadata": {},
   "source": [
    "Встановимо модулі matplotlib, numpy, pandas, ipython:"
   ]
  },
  {
   "cell_type": "code",
   "execution_count": 1,
   "metadata": {},
   "outputs": [
    {
     "name": "stdout",
     "output_type": "stream",
     "text": [
      "Requirement already satisfied: numpy in d:\\program files\\anaconda\\lib\\site-packages (1.26.4)\n",
      "Requirement already satisfied: pandas in d:\\program files\\anaconda\\lib\\site-packages (2.2.3)\n",
      "Requirement already satisfied: matplotlib in d:\\program files\\anaconda\\lib\\site-packages (3.10.0)\n",
      "Requirement already satisfied: ipython in d:\\program files\\anaconda\\lib\\site-packages (8.30.0)\n",
      "Requirement already satisfied: python-dateutil>=2.8.2 in d:\\program files\\anaconda\\lib\\site-packages (from pandas) (2.9.0.post0)\n",
      "Requirement already satisfied: pytz>=2020.1 in d:\\program files\\anaconda\\lib\\site-packages (from pandas) (2024.1)\n",
      "Requirement already satisfied: tzdata>=2022.7 in d:\\program files\\anaconda\\lib\\site-packages (from pandas) (2023.3)\n",
      "Requirement already satisfied: contourpy>=1.0.1 in d:\\program files\\anaconda\\lib\\site-packages (from matplotlib) (1.2.0)\n",
      "Requirement already satisfied: cycler>=0.10 in d:\\program files\\anaconda\\lib\\site-packages (from matplotlib) (0.11.0)\n",
      "Requirement already satisfied: fonttools>=4.22.0 in d:\\program files\\anaconda\\lib\\site-packages (from matplotlib) (4.51.0)\n",
      "Requirement already satisfied: kiwisolver>=1.3.1 in d:\\program files\\anaconda\\lib\\site-packages (from matplotlib) (1.4.4)\n",
      "Requirement already satisfied: packaging>=20.0 in d:\\program files\\anaconda\\lib\\site-packages (from matplotlib) (24.1)\n",
      "Requirement already satisfied: pillow>=8 in d:\\program files\\anaconda\\lib\\site-packages (from matplotlib) (10.4.0)\n",
      "Requirement already satisfied: pyparsing>=2.3.1 in d:\\program files\\anaconda\\lib\\site-packages (from matplotlib) (3.1.2)\n",
      "Requirement already satisfied: decorator in d:\\program files\\anaconda\\lib\\site-packages (from ipython) (5.1.1)\n",
      "Requirement already satisfied: jedi>=0.16 in d:\\program files\\anaconda\\lib\\site-packages (from ipython) (0.19.1)\n",
      "Requirement already satisfied: matplotlib-inline in d:\\program files\\anaconda\\lib\\site-packages (from ipython) (0.1.6)\n",
      "Requirement already satisfied: prompt-toolkit<3.1.0,>=3.0.41 in d:\\program files\\anaconda\\lib\\site-packages (from ipython) (3.0.43)\n",
      "Requirement already satisfied: pygments>=2.4.0 in d:\\program files\\anaconda\\lib\\site-packages (from ipython) (2.15.1)\n",
      "Requirement already satisfied: stack-data in d:\\program files\\anaconda\\lib\\site-packages (from ipython) (0.2.0)\n",
      "Requirement already satisfied: traitlets>=5.13.0 in d:\\program files\\anaconda\\lib\\site-packages (from ipython) (5.14.3)\n",
      "Requirement already satisfied: colorama in d:\\program files\\anaconda\\lib\\site-packages (from ipython) (0.4.6)\n",
      "Requirement already satisfied: parso<0.9.0,>=0.8.3 in d:\\program files\\anaconda\\lib\\site-packages (from jedi>=0.16->ipython) (0.8.3)\n",
      "Requirement already satisfied: wcwidth in d:\\program files\\anaconda\\lib\\site-packages (from prompt-toolkit<3.1.0,>=3.0.41->ipython) (0.2.5)\n",
      "Requirement already satisfied: six>=1.5 in d:\\program files\\anaconda\\lib\\site-packages (from python-dateutil>=2.8.2->pandas) (1.16.0)\n",
      "Requirement already satisfied: executing in d:\\program files\\anaconda\\lib\\site-packages (from stack-data->ipython) (0.8.3)\n",
      "Requirement already satisfied: asttokens in d:\\program files\\anaconda\\lib\\site-packages (from stack-data->ipython) (2.0.5)\n",
      "Requirement already satisfied: pure-eval in d:\\program files\\anaconda\\lib\\site-packages (from stack-data->ipython) (0.2.2)\n",
      "Note: you may need to restart the kernel to use updated packages.\n"
     ]
    }
   ],
   "source": [
    "pip install numpy pandas matplotlib ipython"
   ]
  },
  {
   "cell_type": "markdown",
   "metadata": {},
   "source": [
    "# Завдання 1"
   ]
  },
  {
   "cell_type": "markdown",
   "metadata": {},
   "source": [
    "Для кожної із адміністративних одиниць України завантажити тестові структуровані файли, що містять значення VHI-індексу. \n",
    "Ця процедура має бути автоматизована, параметром процедури має бути індекс (номер) області. \n",
    "При зберіганні файлу до його імені потрібно додати дату та час завантаження.\n",
    "\n",
    "Передбачити повторні запуски скрипту, довантаження нових даних та колізію\n",
    "даних;"
   ]
  },
  {
   "cell_type": "code",
   "execution_count": 2,
   "metadata": {},
   "outputs": [],
   "source": [
    "import urllib.request\n",
    "import hashlib\n",
    "import os\n",
    "from datetime import datetime\n",
    "\n",
    "# Папка для збереження CSV-файлів\n",
    "DATA_DIR = \"CSV_Files\" \n",
    "if not os.path.exists(DATA_DIR):\n",
    "    os.makedirs(DATA_DIR)\n",
    "\n",
    "# Функція для обчислення хешу файлу (SHA-256)\n",
    "def compute_sha256(file_path):\n",
    "    \"\"\"Обчислює SHA-256 хеш файлу для перевірки дублікатів.\"\"\"\n",
    "    sha256 = hashlib.sha256()\n",
    "    with open(file_path, \"rb\") as f:\n",
    "        for chunk in iter(lambda: f.read(4096), b\"\"):\n",
    "            sha256.update(chunk)\n",
    "    return sha256.hexdigest()\n",
    "\n",
    "# Функція для перевірки коректності відповіді сервера\n",
    "def is_valid_response(response):\n",
    "    \"\"\"Перевіряє, чи отримані коректні дані (не HTML-сторінка з помилкою).\"\"\"\n",
    "    content_type = response.getheader('Content-Type', '')\n",
    "    return 'text/plain' in content_type or 'csv' in content_type\n",
    "\n",
    "# Функція для завантаження VHI-даних для конкретної області\n",
    "def download_vhi_data(region_ID):\n",
    "    \"\"\"Завантажує VHI-дані для області та зберігає у файлі з унікальним ім'ям.\"\"\"\n",
    "    \n",
    "    # Формування URL для отримання даних\n",
    "    url = f\"https://www.star.nesdis.noaa.gov/smcd/emb/vci/VH/get_TS_admin.php?country=UKR&provinceID={region_ID}&year1=1981&year2=2024&type=Mean\"\n",
    "    \n",
    "    # Генерація унікальної назви файлу із зазначенням часу\n",
    "    timestamp = datetime.now().strftime(\"%Y%m%d_%H%M%S\")\n",
    "    output_file_path = os.path.join(DATA_DIR, f\"VHI_{region_ID}_{timestamp}.csv\")\n",
    "\n",
    "    try:\n",
    "        # Відправка запиту та отримання даних\n",
    "        response = urllib.request.urlopen(url)\n",
    "        content = response.read()\n",
    "\n",
    "        # Запис отриманих даних у CSV-файл\n",
    "        with open(output_file_path, 'wb') as file:\n",
    "            file.write(content)\n",
    "\n",
    "        # Перевірка наявності дубліката\n",
    "        for stored_file in os.listdir(DATA_DIR):\n",
    "            if stored_file.endswith(\".csv\") and f\"Region{region_ID}\" in stored_file:\n",
    "                stored_path = os.path.join(DATA_DIR, stored_file)\n",
    "                \n",
    "                # Якщо файл ідентичний, видаляємо новий дублікат\n",
    "                if stored_path != output_file_path and os.path.exists(stored_path):\n",
    "                    if compute_sha256(stored_path) == compute_sha256(output_file_path):\n",
    "                        print(f\"Файл для області {region_ID} вже є. Видаляю дубль.\")\n",
    "                        os.remove(output_file_path)\n",
    "                        return\n",
    "                        \n",
    "        print(f\"Файл для області {region_ID} успішно завантажено: {output_file_path}\")\n",
    "\n",
    "    except Exception as err:\n",
    "        print(f\"Помилка при отриманні даних для області {region_ID}: {err}\")\n",
    "\n",
    "# Завантаження даних для всіх 27 адміністративних одиниць України\n",
    "    download_vhi_data(region_ID)"
   ]
  },
  {
   "cell_type": "markdown",
   "metadata": {},
   "source": [
    "# Завдання 2"
   ]
  },
  {
   "cell_type": "markdown",
   "metadata": {},
   "source": [
    "Зчитати завантажені текстові файли у фрейм\n",
    "(https://pandas.pydata.org/docs/reference/api/pandas.DataFrame.html) (детальніше\n",
    "про роботу із фреймами буде розказано у подальших лабораторних роботах).\n",
    "Імена стовбців фрейму мають бути змістовними та легкими для сприйняття (не\n",
    "повинно бути спеціалізованих символів, пробілів тощо). Ця задача має бути\n",
    "реалізована у вигляді окремої процедури, яка на вхід приймає шлях до\n",
    "директорії, в якій зберігаються файли;"
   ]
  },
  {
   "cell_type": "code",
   "execution_count": 3,
   "metadata": {},
   "outputs": [
    {
     "name": "stdout",
     "output_type": "stream",
     "text": [
      "Об'єднані дані успішно збережено у source_file.csv\n",
      "Перші 10 рядків:\n",
      "Empty DataFrame\n",
      "Columns: [Year, Week, SMN, SMT, VCI, TCI, VHI, PROVINCE_ID]\n",
      "Index: []\n",
      "Ось останні 10 рядків:\n",
      "Empty DataFrame\n",
      "Columns: [Year, Week, SMN, SMT, VCI, TCI, VHI, PROVINCE_ID]\n",
      "Index: []\n"
     ]
    }
   ],
   "source": [
    "import pandas as pd\n",
    "import os\n",
    "import re\n",
    "\n",
    "# Папка з CSV-файлами та вихідний файл\n",
    "DATA_DIR = \"CSV_Files\"  # Моя директорія\n",
    "output_path = \"source_file.csv\" # Файл для збереження \n",
    "\n",
    "# Імена колонок для зчитування\n",
    "COLUMN_NAMES = [\"Year\", \"Week\", \"SMN\", \"SMT\", \"VCI\", \"TCI\", \"VHI\", \"PROVINCE_ID\"]\n",
    "\n",
    "# Порожній DataFrame для об'єднання даних\n",
    "combined_data = pd.DataFrame(columns=COLUMN_NAMES)\n",
    "\n",
    "# Отримуємо список CSV-файлів, відсортованих за номером області\n",
    "files = sorted([f for f in os.listdir(DATA_DIR) if f.endswith('.csv')], \n",
    "               key=lambda x: int(re.findall(r'\\d+', x)[0]))\n",
    "\n",
    "# Обробка кожного файлу\n",
    "for file_name in files:\n",
    "    file_path = os.path.join(DATA_DIR, file_name)\n",
    "\n",
    "    try:\n",
    "        # Отримуємо ID області з назви файлу\n",
    "        province_id = int(re.findall(r'\\d+', file_name)[0])\n",
    "\n",
    "        # Зчитуємо файл, пропускаючи перші 2 рядки\n",
    "        df = pd.read_csv(file_path, skiprows=2, names=COLUMN_NAMES)\n",
    "\n",
    "        # Видаляємо HTML-теги з Year\n",
    "        df[\"Year\"] = df[\"Year\"].astype(str).str.replace(r'<tt><pre>|</pre></tt>', '', regex=True)\n",
    "\n",
    "        # pd.to_numeric(..., errors='coerce') замінює некоректні значення на NaN, якщо такі є.\n",
    "        df[\"Year\"] = pd.to_numeric(df[\"Year\"], errors='coerce')\n",
    "        df[\"Week\"] = pd.to_numeric(df[\"Week\"], errors='coerce')\n",
    "\n",
    "        # Видаляє рядки з NaN у Year та Week, щоб уникнути помилок при подальших обчисленнях\n",
    "        df.dropna(subset=[\"Year\", \"Week\"], inplace=True)\n",
    "\n",
    "        # Перетворює Year і Week на цілі числа (int):\n",
    "        df[\"Year\"] = df[\"Year\"].astype(int)\n",
    "        df[\"Week\"] = df[\"Week\"].astype(int)\n",
    "\n",
    "        # Додаємо ID області у колонку \"PROVINCE_ID\"\n",
    "        df[\"PROVINCE_ID\"] = province_id\n",
    "\n",
    "        # Видаляємо рядки з некоректними VHI та NaN\n",
    "        df = df[df[\"VHI\"] != -1].dropna()\n",
    "\n",
    "        # Додаємо оброблені дані в загальний DataFrame\n",
    "        combined_data = pd.concat([combined_data, df], ignore_index=True)\n",
    "\n",
    "    except Exception as e:\n",
    "        print(f\"Помилка при читанні файлу {file_name}: {e}\")\n",
    "\n",
    "# Зберігаємо результат у файл\n",
    "combined_data.to_csv(output_path, index=False)\n",
    "\n",
    "# Виводимо перші 10 рядків\n",
    "print(\"Об'єднані дані успішно збережено у\", output_path)\n",
    "print(\"Перші 10 рядків:\")\n",
    "print(combined_data.head(10))\n",
    "print(\"Ось останні 10 рядків:\")\n",
    "print(combined_data.tail(10))\n"
   ]
  },
  {
   "cell_type": "markdown",
   "metadata": {},
   "source": [
    "# Завдання 3"
   ]
  },
  {
   "cell_type": "markdown",
   "metadata": {},
   "source": [
    "Реалізувати окрему процедуру, яка змінить індекси областей, які використані на\n",
    "порталі NOAA (за англійською абеткою) на наступні, за українською (виключно\n",
    "старі індекси на нові):"
   ]
  },
  {
   "cell_type": "code",
   "execution_count": 4,
   "metadata": {},
   "outputs": [
    {
     "name": "stdout",
     "output_type": "stream",
     "text": [
      "Оновлений файл збережено: Updated_Provinces.csv\n",
      "Empty DataFrame\n",
      "Columns: [Year, Week, SMN, SMT, VCI, TCI, VHI, PROVINCE_ID]\n",
      "Index: []\n"
     ]
    }
   ],
   "source": [
    "import pandas as pd\n",
    "\n",
    "def update_province_ids(df):\n",
    "    \n",
    "    province_mapping = {\n",
    "        1: 24,  2: 26,  3: 25,  4: 27,  5: 3,   6: 4,   7: 8,  \n",
    "        8: 21,  9: 22, 10: 23, 11: 10, 12: 9,  13: 11, 14: 12, \n",
    "       15: 13, 16: 14, 17: 15, 18: 16, 19: 17, 20: 18, 21: 19, \n",
    "       22: 20, 23: 6,  24: 1,  25: 2,  26: 7,  27: 5\n",
    "    }\n",
    "\n",
    "    # Переконуємося, що колонка \"PROVINCE_ID\" є у DataFrame\n",
    "    if \"PROVINCE_ID\" not in df.columns:\n",
    "        print(\"Колонка 'PROVINCE_ID' не знайдена у DataFrame!\")\n",
    "        return df\n",
    "\n",
    "    # Оновлення значень\n",
    "    df[\"PROVINCE_ID\"] = df[\"PROVINCE_ID\"].map(province_mapping)\n",
    "\n",
    "    return df\n",
    "\n",
    "# Оновлення індексів у `combined_data`\n",
    "combined_data = update_province_ids(combined_data)\n",
    "\n",
    "# Збереження у файл\n",
    "output_file = \"Updated_Provinces.csv\"\n",
    "combined_data.to_csv(output_file, index=False)\n",
    "\n",
    "# Вивід результату\n",
    "print(f\"Оновлений файл збережено: {output_file}\")\n",
    "print(combined_data.head(10))\n"
   ]
  },
  {
   "cell_type": "markdown",
   "metadata": {},
   "source": [
    "# Завдання 4"
   ]
  },
  {
   "cell_type": "markdown",
   "metadata": {},
   "source": [
    "### Реалізувати процедури для формування вибірок наступного виду (включаючи елементи аналізу):"
   ]
  },
  {
   "cell_type": "markdown",
   "metadata": {},
   "source": [
    "o Ряд VHI для області за вказаний рік;"
   ]
  },
  {
   "cell_type": "markdown",
   "metadata": {},
   "source": [
    "1. Отримати ряд VHI для області за вказаний рік"
   ]
  },
  {
   "cell_type": "code",
   "execution_count": 5,
   "metadata": {},
   "outputs": [
    {
     "name": "stdout",
     "output_type": "stream",
     "text": [
      "Empty DataFrame\n",
      "Columns: [Year, Week, VHI]\n",
      "Index: []\n"
     ]
    }
   ],
   "source": [
    "def get_vhi_for_region_year(df, province_id, year, start_week, end_week):\n",
    "\n",
    "    return df[(df[\"PROVINCE_ID\"] == province_id) & (df[\"Year\"] == year)& (df[\"Week\"]>=start_week)&df[\"Week\"]<=end_week ][[\"Year\", \"Week\", \"VHI\"]]\n",
    "\n",
    "vhi_data = get_vhi_for_region_year(combined_data, province_id=10, year=2020, start_week=15, end_week=20)\n",
    "print(vhi_data)\n"
   ]
  },
  {
   "cell_type": "markdown",
   "metadata": {},
   "source": [
    "2. Пошук екстремумів (min, max), середнього, медіани"
   ]
  },
  {
   "cell_type": "code",
   "execution_count": 6,
   "metadata": {},
   "outputs": [
    {
     "name": "stdout",
     "output_type": "stream",
     "text": [
      "Empty DataFrame\n",
      "Columns: [PROVINCE_ID, Year, min, max, mean, median]\n",
      "Index: []\n"
     ]
    }
   ],
   "source": [
    "def get_vhi_statistics(df, province_ids, years):\n",
    "\n",
    "    # Фільтруємо дані за обраними областями та роками\n",
    "    filtered_df = df[(df[\"PROVINCE_ID\"].isin(province_ids)) & (df[\"Year\"].isin(years))]\n",
    "\n",
    "    # Групуємо за областю та роком, обчислюємо статистичні показники\n",
    "    return filtered_df.groupby([\"PROVINCE_ID\", \"Year\"])[\"VHI\"].agg([\"min\", \"max\", \"mean\", \"median\"]).reset_index()\n",
    "\n",
    "# Виклик функції для областей з ID 5 і 10 у 2000 та 2020 роках\n",
    "stats = get_vhi_statistics(combined_data, province_ids=[5, 10], years=[2000, 2020])\n",
    "print(stats)\n"
   ]
  },
  {
   "cell_type": "markdown",
   "metadata": {},
   "source": [
    "3. Отримати ряд VHI за вказаний діапазон років для вказаних областей"
   ]
  },
  {
   "cell_type": "code",
   "execution_count": 7,
   "metadata": {},
   "outputs": [
    {
     "name": "stdout",
     "output_type": "stream",
     "text": [
      "Дані для вказаного діапазону відсутні!\n",
      "Empty DataFrame\n",
      "Columns: [Year, Week, PROVINCE_ID, VHI]\n",
      "Index: []\n"
     ]
    }
   ],
   "source": [
    "def get_vhi_by_year_range(df, province_ids, start_year, end_year):\n",
    "\n",
    "    result = df[(df[\"PROVINCE_ID\"].isin(province_ids)) & (df[\"Year\"].between(start_year, end_year))]\n",
    "    \n",
    "    if result.empty:\n",
    "        print(\"Дані для вказаного діапазону відсутні!\")\n",
    "    \n",
    "    return result[[\"Year\", \"Week\", \"PROVINCE_ID\", \"VHI\"]]\n",
    "\n",
    "# Використання:\n",
    "province_ids = [3, 7, 12]  # Введи потрібні області\n",
    "start_year = 2010  # Початковий рік\n",
    "end_year = 2020  # Кінцевий рік\n",
    "vhi_range_data = get_vhi_by_year_range(combined_data, province_ids, start_year, end_year)\n",
    "print(vhi_range_data)\n"
   ]
  },
  {
   "cell_type": "markdown",
   "metadata": {},
   "source": [
    "o Для всього набору даних виявити роки, протягом яких екстремальні\n",
    "посухи торкнулися більше вказаного відсотка областей по Україні (20%\n",
    "областей - 5 областей з 25). Повернути роки, назви областей з\n",
    "екстремальними посухами та значення VHI;"
   ]
  },
  {
   "cell_type": "markdown",
   "metadata": {},
   "source": [
    "4. Виявити роки, коли посуха торкнулася >20% областей (VHI < 15)"
   ]
  },
  {
   "cell_type": "code",
   "execution_count": 8,
   "metadata": {},
   "outputs": [
    {
     "name": "stdout",
     "output_type": "stream",
     "text": [
      "Не знайдено років, коли посуха торкнулася 20% областей.\n",
      "None\n"
     ]
    }
   ],
   "source": [
    "def find_drought_years(df, threshold=15, affected_percentage=0.2):\n",
    "\n",
    "    province_count = df[\"PROVINCE_ID\"].nunique()  # Загальна кількість областей\n",
    "    min_affected = int(province_count * affected_percentage)  # Мінімальна кількість уражених областей\n",
    "\n",
    "    drought_data = df[df[\"VHI\"] < threshold].groupby([\"Year\"])[\"PROVINCE_ID\"].nunique().reset_index()\n",
    "    drought_years = drought_data[drought_data[\"PROVINCE_ID\"] >= min_affected]\n",
    "\n",
    "    if drought_years.empty:\n",
    "        print(\"Не знайдено років, коли посуха торкнулася 20% областей.\")\n",
    "        return None\n",
    "\n",
    "    # Отримуємо детальні дані про області, які потрапили під посуху\n",
    "    drought_details = df[(df[\"Year\"].isin(drought_years[\"Year\"])) & (df[\"VHI\"] < threshold)]\n",
    "    \n",
    "    return drought_details[[\"Year\", \"PROVINCE_ID\", \"VHI\"]]\n",
    "\n",
    "# Використання:\n",
    "drought_info = find_drought_years(combined_data)\n",
    "print(drought_info)\n"
   ]
  },
  {
   "cell_type": "code",
   "execution_count": 9,
   "metadata": {},
   "outputs": [
    {
     "name": "stdout",
     "output_type": "stream",
     "text": [
      "[1, 2, 5, 10, 17]\n"
     ]
    }
   ],
   "source": [
    "#Чому дорівнює: \n",
    "a = [n**2+1 for n in range(5)]\n",
    "print(a)\n"
   ]
  },
  {
   "cell_type": "code",
   "execution_count": 10,
   "metadata": {},
   "outputs": [
    {
     "name": "stdout",
     "output_type": "stream",
     "text": [
      "['ArithmeticError', 'AssertionError', 'AttributeError', 'BaseException', 'BaseExceptionGroup', 'BlockingIOError', 'BrokenPipeError', 'BufferError', 'BytesWarning', 'ChildProcessError', 'ConnectionAbortedError', 'ConnectionError', 'ConnectionRefusedError', 'ConnectionResetError', 'DeprecationWarning', 'EOFError', 'Ellipsis', 'EncodingWarning', 'EnvironmentError', 'Exception', 'ExceptionGroup', 'False', 'FileExistsError', 'FileNotFoundError', 'FloatingPointError', 'FutureWarning', 'GeneratorExit', 'IOError', 'ImportError', 'ImportWarning', 'IndentationError', 'IndexError', 'InterruptedError', 'IsADirectoryError', 'KeyError', 'KeyboardInterrupt', 'LookupError', 'MemoryError', 'ModuleNotFoundError', 'NameError', 'None', 'NotADirectoryError', 'NotImplemented', 'NotImplementedError', 'OSError', 'OverflowError', 'PendingDeprecationWarning', 'PermissionError', 'ProcessLookupError', 'RecursionError', 'ReferenceError', 'ResourceWarning', 'RuntimeError', 'RuntimeWarning', 'StopAsyncIteration', 'StopIteration', 'SyntaxError', 'SyntaxWarning', 'SystemError', 'SystemExit', 'TabError', 'TimeoutError', 'True', 'TypeError', 'UnboundLocalError', 'UnicodeDecodeError', 'UnicodeEncodeError', 'UnicodeError', 'UnicodeTranslateError', 'UnicodeWarning', 'UserWarning', 'ValueError', 'Warning', 'WindowsError', 'ZeroDivisionError', '__IPYTHON__', '__build_class__', '__debug__', '__doc__', '__import__', '__loader__', '__name__', '__package__', '__spec__', 'abs', 'aiter', 'all', 'anext', 'any', 'ascii', 'bin', 'bool', 'breakpoint', 'bytearray', 'bytes', 'callable', 'chr', 'classmethod', 'compile', 'complex', 'copyright', 'credits', 'delattr', 'dict', 'dir', 'display', 'divmod', 'enumerate', 'eval', 'exec', 'execfile', 'filter', 'float', 'format', 'frozenset', 'get_ipython', 'getattr', 'globals', 'hasattr', 'hash', 'help', 'hex', 'id', 'input', 'int', 'isinstance', 'issubclass', 'iter', 'len', 'license', 'list', 'locals', 'map', 'max', 'memoryview', 'min', 'next', 'object', 'oct', 'open', 'ord', 'pow', 'print', 'property', 'range', 'repr', 'reversed', 'round', 'runfile', 'set', 'setattr', 'slice', 'sorted', 'staticmethod', 'str', 'sum', 'super', 'tuple', 'type', 'vars', 'zip']\n"
     ]
    }
   ],
   "source": [
    "print(dir(__builtins__))"
   ]
  },
  {
   "cell_type": "code",
   "execution_count": 11,
   "metadata": {},
   "outputs": [
    {
     "data": {
      "text/plain": [
       "['ArithmeticError',\n",
       " 'AssertionError',\n",
       " 'AttributeError',\n",
       " 'BaseException',\n",
       " 'BaseExceptionGroup',\n",
       " 'BlockingIOError',\n",
       " 'BrokenPipeError',\n",
       " 'BufferError',\n",
       " 'BytesWarning',\n",
       " 'ChildProcessError',\n",
       " 'ConnectionAbortedError',\n",
       " 'ConnectionError',\n",
       " 'ConnectionRefusedError',\n",
       " 'ConnectionResetError',\n",
       " 'DeprecationWarning',\n",
       " 'EOFError',\n",
       " 'Ellipsis',\n",
       " 'EncodingWarning',\n",
       " 'EnvironmentError',\n",
       " 'Exception',\n",
       " 'ExceptionGroup',\n",
       " 'False',\n",
       " 'FileExistsError',\n",
       " 'FileNotFoundError',\n",
       " 'FloatingPointError',\n",
       " 'FutureWarning',\n",
       " 'GeneratorExit',\n",
       " 'IOError',\n",
       " 'ImportError',\n",
       " 'ImportWarning',\n",
       " 'IndentationError',\n",
       " 'IndexError',\n",
       " 'InterruptedError',\n",
       " 'IsADirectoryError',\n",
       " 'KeyError',\n",
       " 'KeyboardInterrupt',\n",
       " 'LookupError',\n",
       " 'MemoryError',\n",
       " 'ModuleNotFoundError',\n",
       " 'NameError',\n",
       " 'None',\n",
       " 'NotADirectoryError',\n",
       " 'NotImplemented',\n",
       " 'NotImplementedError',\n",
       " 'OSError',\n",
       " 'OverflowError',\n",
       " 'PendingDeprecationWarning',\n",
       " 'PermissionError',\n",
       " 'ProcessLookupError',\n",
       " 'RecursionError',\n",
       " 'ReferenceError',\n",
       " 'ResourceWarning',\n",
       " 'RuntimeError',\n",
       " 'RuntimeWarning',\n",
       " 'StopAsyncIteration',\n",
       " 'StopIteration',\n",
       " 'SyntaxError',\n",
       " 'SyntaxWarning',\n",
       " 'SystemError',\n",
       " 'SystemExit',\n",
       " 'TabError',\n",
       " 'TimeoutError',\n",
       " 'True',\n",
       " 'TypeError',\n",
       " 'UnboundLocalError',\n",
       " 'UnicodeDecodeError',\n",
       " 'UnicodeEncodeError',\n",
       " 'UnicodeError',\n",
       " 'UnicodeTranslateError',\n",
       " 'UnicodeWarning',\n",
       " 'UserWarning',\n",
       " 'ValueError',\n",
       " 'Warning',\n",
       " 'WindowsError',\n",
       " 'ZeroDivisionError',\n",
       " '__IPYTHON__',\n",
       " '__build_class__',\n",
       " '__debug__',\n",
       " '__doc__',\n",
       " '__import__',\n",
       " '__loader__',\n",
       " '__name__',\n",
       " '__package__',\n",
       " '__spec__',\n",
       " 'abs',\n",
       " 'aiter',\n",
       " 'all',\n",
       " 'anext',\n",
       " 'any',\n",
       " 'ascii',\n",
       " 'bin',\n",
       " 'bool',\n",
       " 'breakpoint',\n",
       " 'bytearray',\n",
       " 'bytes',\n",
       " 'callable',\n",
       " 'chr',\n",
       " 'classmethod',\n",
       " 'compile',\n",
       " 'complex',\n",
       " 'copyright',\n",
       " 'credits',\n",
       " 'delattr',\n",
       " 'dict',\n",
       " 'dir',\n",
       " 'display',\n",
       " 'divmod',\n",
       " 'enumerate',\n",
       " 'eval',\n",
       " 'exec',\n",
       " 'execfile',\n",
       " 'filter',\n",
       " 'float',\n",
       " 'format',\n",
       " 'frozenset',\n",
       " 'get_ipython',\n",
       " 'getattr',\n",
       " 'globals',\n",
       " 'hasattr',\n",
       " 'hash',\n",
       " 'help',\n",
       " 'hex',\n",
       " 'id',\n",
       " 'input',\n",
       " 'int',\n",
       " 'isinstance',\n",
       " 'issubclass',\n",
       " 'iter',\n",
       " 'len',\n",
       " 'license',\n",
       " 'list',\n",
       " 'locals',\n",
       " 'map',\n",
       " 'max',\n",
       " 'memoryview',\n",
       " 'min',\n",
       " 'next',\n",
       " 'object',\n",
       " 'oct',\n",
       " 'open',\n",
       " 'ord',\n",
       " 'pow',\n",
       " 'print',\n",
       " 'property',\n",
       " 'range',\n",
       " 'repr',\n",
       " 'reversed',\n",
       " 'round',\n",
       " 'runfile',\n",
       " 'set',\n",
       " 'setattr',\n",
       " 'slice',\n",
       " 'sorted',\n",
       " 'staticmethod',\n",
       " 'str',\n",
       " 'sum',\n",
       " 'super',\n",
       " 'tuple',\n",
       " 'type',\n",
       " 'vars',\n",
       " 'zip']"
      ]
     },
     "execution_count": 11,
     "metadata": {},
     "output_type": "execute_result"
    }
   ],
   "source": [
    "dir( __builtins__ )"
   ]
  },
  {
   "cell_type": "code",
   "execution_count": 12,
   "metadata": {},
   "outputs": [
    {
     "ename": "SyntaxError",
     "evalue": "Missing parentheses in call to 'print'. Did you mean print(...)? (2517868533.py, line 1)",
     "output_type": "error",
     "traceback": [
      "\u001b[1;36m  Cell \u001b[1;32mIn[12], line 1\u001b[1;36m\u001b[0m\n\u001b[1;33m    print dir( __builtins__ )\u001b[0m\n\u001b[1;37m    ^\u001b[0m\n\u001b[1;31mSyntaxError\u001b[0m\u001b[1;31m:\u001b[0m Missing parentheses in call to 'print'. Did you mean print(...)?\n"
     ]
    }
   ],
   "source": [
    "print dir( __builtins__ )"
   ]
  },
  {
   "cell_type": "code",
   "execution_count": null,
   "metadata": {},
   "outputs": [
    {
     "name": "stdout",
     "output_type": "stream",
     "text": [
      "['Mars', 'Jupiter', 'Saturn']\n"
     ]
    }
   ],
   "source": [
    "planets = ['Mercury', 'Venus', 'Earth', 'Mars', 'Jupiter', 'Saturn', 'Uranus', 'Neptune'][3:-2]\n",
    "print(planets)"
   ]
  },
  {
   "cell_type": "markdown",
   "metadata": {},
   "source": [
    "в1"
   ]
  },
  {
   "cell_type": "code",
   "execution_count": null,
   "metadata": {},
   "outputs": [
    {
     "name": "stdout",
     "output_type": "stream",
     "text": [
      "2\n"
     ]
    }
   ],
   "source": [
    "def least_difference(a, b, c):\n",
    "    diff1 = abs(a - b)\n",
    "    diff2 = abs(b - c)\n",
    "    diff3 = abs(a - c)\n",
    "    return min(diff1, diff2, diff3)\n",
    "print(least_difference(10, 5, 8)) \n"
   ]
  },
  {
   "cell_type": "code",
   "execution_count": null,
   "metadata": {},
   "outputs": [
    {
     "name": "stdout",
     "output_type": "stream",
     "text": [
      "-3\n"
     ]
    }
   ],
   "source": [
    "def least_difference(a, b, c):\n",
    "    diff1 = a - b\n",
    "    diff2 = b - c\n",
    "    diff3 = a - c\n",
    "    return min(diff1, diff2, diff3)\n",
    "print(least_difference(10, 5, 8)) "
   ]
  },
  {
   "cell_type": "code",
   "execution_count": null,
   "metadata": {},
   "outputs": [
    {
     "ename": "TypeError",
     "evalue": "'int' object is not iterable",
     "output_type": "error",
     "traceback": [
      "\u001b[1;31m---------------------------------------------------------------------------\u001b[0m",
      "\u001b[1;31mTypeError\u001b[0m                                 Traceback (most recent call last)",
      "Cell \u001b[1;32mIn[31], line 6\u001b[0m\n\u001b[0;32m      4\u001b[0m     diff3 \u001b[38;5;241m=\u001b[39m \u001b[38;5;28mmin\u001b[39m(a \u001b[38;5;241m-\u001b[39m c)\n\u001b[0;32m      5\u001b[0m     \u001b[38;5;28;01mreturn\u001b[39;00m \u001b[38;5;28mmin\u001b[39m(diff1, diff2, diff3)\n\u001b[1;32m----> 6\u001b[0m \u001b[38;5;28mprint\u001b[39m(least_difference(\u001b[38;5;241m10\u001b[39m, \u001b[38;5;241m5\u001b[39m, \u001b[38;5;241m8\u001b[39m))\n",
      "Cell \u001b[1;32mIn[31], line 2\u001b[0m, in \u001b[0;36mleast_difference\u001b[1;34m(a, b, c)\u001b[0m\n\u001b[0;32m      1\u001b[0m \u001b[38;5;28;01mdef\u001b[39;00m \u001b[38;5;21mleast_difference\u001b[39m(a, b, c):\n\u001b[1;32m----> 2\u001b[0m     diff1 \u001b[38;5;241m=\u001b[39m \u001b[38;5;28mmin\u001b[39m(a \u001b[38;5;241m-\u001b[39m b)\n\u001b[0;32m      3\u001b[0m     diff2 \u001b[38;5;241m=\u001b[39m \u001b[38;5;28mmin\u001b[39m(b \u001b[38;5;241m-\u001b[39m c)\n\u001b[0;32m      4\u001b[0m     diff3 \u001b[38;5;241m=\u001b[39m \u001b[38;5;28mmin\u001b[39m(a \u001b[38;5;241m-\u001b[39m c)\n",
      "\u001b[1;31mTypeError\u001b[0m: 'int' object is not iterable"
     ]
    }
   ],
   "source": [
    "def least_difference(a, b, c):\n",
    "    diff1 = min(a - b)\n",
    "    diff2 = min(b - c)\n",
    "    diff3 = min(a - c)\n",
    "    return min(diff1, diff2, diff3)\n",
    "print(least_difference(10, 5, 8)) "
   ]
  },
  {
   "cell_type": "code",
   "execution_count": null,
   "metadata": {},
   "outputs": [
    {
     "name": "stdout",
     "output_type": "stream",
     "text": [
      "-3\n"
     ]
    }
   ],
   "source": [
    "def least_difference(a, b, c):\n",
    "    diff1 = a - b\n",
    "    diff2 = b - c\n",
    "    diff3 = a - c\n",
    "    return min(diff1, diff2, diff3)\n",
    "print(least_difference(10, 5, 8)) "
   ]
  },
  {
   "cell_type": "code",
   "execution_count": null,
   "metadata": {},
   "outputs": [
    {
     "data": {
      "text/plain": [
       "True"
      ]
     },
     "execution_count": 34,
     "metadata": {},
     "output_type": "execute_result"
    }
   ],
   "source": [
    "True and ( False or ( True and False or True))\n"
   ]
  }
 ],
 "metadata": {
  "kernelspec": {
   "display_name": "base",
   "language": "python",
   "name": "python3"
  },
  "language_info": {
   "codemirror_mode": {
    "name": "ipython",
    "version": 3
   },
   "file_extension": ".py",
   "mimetype": "text/x-python",
   "name": "python",
   "nbconvert_exporter": "python",
   "pygments_lexer": "ipython3",
   "version": "3.12.7"
  }
 },
 "nbformat": 4,
 "nbformat_minor": 2
}
